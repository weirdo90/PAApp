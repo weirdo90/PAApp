{
  "nbformat": 4,
  "nbformat_minor": 0,
  "metadata": {
    "colab": {
      "name": "DDPG_continuous(GrindingCircuit).ipynb",
      "provenance": [],
      "collapsed_sections": [],
      "toc_visible": true,
      "machine_shape": "hm",
      "include_colab_link": true
    },
    "kernelspec": {
      "name": "python3",
      "display_name": "Python 3"
    },
    "language_info": {
      "name": "python"
    },
    "accelerator": "GPU"
  },
  "cells": [
    {
      "cell_type": "markdown",
      "metadata": {
        "id": "view-in-github",
        "colab_type": "text"
      },
      "source": [
        "<a href=\"https://colab.research.google.com/github/woipi90/PAApp/blob/master/DDPG_continuous(GrindingCircuit).ipynb\" target=\"_parent\"><img src=\"https://colab.research.google.com/assets/colab-badge.svg\" alt=\"Open In Colab\"/></a>"
      ]
    },
    {
      "cell_type": "markdown",
      "metadata": {
        "id": "REKIeWYWnU-P"
      },
      "source": [
        "# Import"
      ]
    },
    {
      "cell_type": "code",
      "metadata": {
        "colab": {
          "base_uri": "https://localhost:8080/"
        },
        "id": "GtNLYk3zFhf_",
        "outputId": "4dcc49c0-fa07-4709-dd12-87be59a698de"
      },
      "source": [
        "# Install gym patch for continuous action space example in COLAB\n",
        "!pip install gym[box2d]"
      ],
      "execution_count": 1,
      "outputs": [
        {
          "output_type": "stream",
          "text": [
            "Requirement already satisfied: gym[box2d] in /usr/local/lib/python3.7/dist-packages (0.17.3)\n",
            "Requirement already satisfied: scipy in /usr/local/lib/python3.7/dist-packages (from gym[box2d]) (1.4.1)\n",
            "Requirement already satisfied: pyglet<=1.5.0,>=1.4.0 in /usr/local/lib/python3.7/dist-packages (from gym[box2d]) (1.5.0)\n",
            "Requirement already satisfied: cloudpickle<1.7.0,>=1.2.0 in /usr/local/lib/python3.7/dist-packages (from gym[box2d]) (1.3.0)\n",
            "Requirement already satisfied: numpy>=1.10.4 in /usr/local/lib/python3.7/dist-packages (from gym[box2d]) (1.19.5)\n",
            "Requirement already satisfied: box2d-py~=2.3.5; extra == \"box2d\" in /usr/local/lib/python3.7/dist-packages (from gym[box2d]) (2.3.8)\n",
            "Requirement already satisfied: future in /usr/local/lib/python3.7/dist-packages (from pyglet<=1.5.0,>=1.4.0->gym[box2d]) (0.16.0)\n"
          ],
          "name": "stdout"
        }
      ]
    },
    {
      "cell_type": "code",
      "metadata": {
        "colab": {
          "base_uri": "https://localhost:8080/"
        },
        "id": "zvAYpz7Wd3ef",
        "outputId": "88054dfc-d99a-457f-d0c8-3599554d17f0"
      },
      "source": [
        "# Access google drive\n",
        "from google.colab import drive\n",
        "drive.mount('/content/gdrive/')"
      ],
      "execution_count": 2,
      "outputs": [
        {
          "output_type": "stream",
          "text": [
            "Drive already mounted at /content/gdrive/; to attempt to forcibly remount, call drive.mount(\"/content/gdrive/\", force_remount=True).\n"
          ],
          "name": "stdout"
        }
      ]
    },
    {
      "cell_type": "code",
      "metadata": {
        "id": "N8sKPtDIhe7C"
      },
      "source": [
        "# Navigate to drive folder in order to access files\n",
        "import sys\n",
        "sys.path.insert(0,'/content/gdrive/My Drive/Colab Notebooks/DDPG')"
      ],
      "execution_count": 3,
      "outputs": []
    },
    {
      "cell_type": "code",
      "metadata": {
        "id": "iMm2FZSPyhQ6"
      },
      "source": [
        "# RL imports\n",
        "import gym\n",
        "import numpy as np\n",
        "from ddpg_torch import Agent\n",
        "from utils import plotLearning\n",
        "\n",
        "# Customized environment imports\n",
        "from gym import Env\n",
        "from gym.spaces import Box\n",
        "import numpy as np\n",
        "import random\n",
        "from gym.utils import seeding\n",
        "from gym import spaces"
      ],
      "execution_count": 4,
      "outputs": []
    },
    {
      "cell_type": "markdown",
      "metadata": {
        "id": "kNzcmIIAna6n"
      },
      "source": [
        "# Grinding Circuit Environment"
      ]
    },
    {
      "cell_type": "code",
      "metadata": {
        "id": "0hIvfWSuYNCW"
      },
      "source": [
        "class GrindingCircuit(Env):\n",
        "  def __init__(self):\n",
        "    # Initialize seed\n",
        "    self.seed()\n",
        "\n",
        "    # Useful range is -1 .. +1, but spikes can be higher\n",
        "    self.observation_space = spaces.Box(-np.inf, np.inf, shape=(8,), dtype=np.float32)\n",
        "\n",
        "    # Action is two floats [feedrate, separator speed].\n",
        "    # Feedrate:         -1..+1 actual feedrate / max feedrate\n",
        "    # Separator Speed:  -1..+1 separator speed / max separator speed\n",
        "    self.action_space = spaces.Box(-1, +1, (2,), dtype=np.float32)\n",
        "\n",
        "    # Initialize vars\n",
        "    self.productFineness          = np.inf\n",
        "    self.recirculatingLoad        = np.inf\n",
        "    self.targetproductFineness    = np.inf\n",
        "    self.targetrecirculatingLoad  = np.inf\n",
        "    self.separatorVentSpeed       = np.inf\n",
        "    self.millMainVentSpeed        = np.inf\n",
        "    self.proportionClinker        = np.inf\n",
        "    self.proportionSlag           = np.inf\n",
        "\n",
        "    # Simulation time\n",
        "    self.initialSimulationLength = 1000\n",
        "    self.simulationLength = self.initialSimulationLength\n",
        "\n",
        "    # Trigger reset\n",
        "    self.reset()\n",
        "  \n",
        "  # Make a step in the environment\n",
        "  def step(self, action):\n",
        "    # Update simulation length\n",
        "    self.simulationLength -= 1\n",
        "\n",
        "    # Action values\n",
        "    action = np.clip(action, -1, +1).astype(np.float32)\n",
        "    if action[0] > 0.0:\n",
        "      self.feedRate = (action[0] + 1.0)*50        # 0..100 of max\n",
        "    if action[1] > 0.0:\n",
        "      self.separatorSpeed = (action[1] + 1.0)*50  # 0..100 of max\n",
        "\n",
        "    # TODO - Implement mill simulation script and deliver output states\n",
        "\n",
        "\n",
        "    # Consideres states\n",
        "    # s[0] - Measured product size\n",
        "    # s[1] - Measured recirculating load\n",
        "    # s[2] - Targeted product size\n",
        "    # s[3] - Targeted recirculating load\n",
        "    # s[4] - Setting for the separator speed of the dynamic separator\n",
        "    # s[5] - Setting for the separator speed of the mill main vantilator\n",
        "    # s[6] - Proportion of the fresh feed being clinker (major influence --> hardness)\n",
        "    # s[7] - Proportion of the fresh feed being slag (major influence --> hardness)\n",
        "    state = [\n",
        "      self.productFineness,\n",
        "      self.recirculatingLoad,\n",
        "      self.targetproductFineness,\n",
        "      self.targetrecirculatingLoad,\n",
        "      self.separatorVentSpeed,\n",
        "      self.millMainVentSpeed,\n",
        "      self.proportionClinker,\n",
        "      self.proportionSlag\n",
        "      ]\n",
        "    \n",
        "    # TODO - Implement reward function\n",
        "    reward = 0\n",
        "\n",
        "    # Check if simulation is done\n",
        "    if self.simulationLength <= 0:\n",
        "      done = True\n",
        "    else:\n",
        "      done = False\n",
        "\n",
        "    # Set placeholder for info\n",
        "    info = {}\n",
        "\n",
        "    return np.array(state, dtype=np.float32), reward, done, info\n",
        "\n",
        "  # TODO - Reset the environment\n",
        "  def reset(self):\n",
        "    # Reset simulation time\n",
        "    self.simulationLength = self.initialSimulationLength\n",
        "  \n",
        "    return self.step(np.array([0, 0]))[0]\n",
        "\n",
        "  # Seed\n",
        "  def seed(self, seed=None):\n",
        "    self.np_random, seed = seeding.np_random(seed)\n",
        "    return [seed]"
      ],
      "execution_count": 5,
      "outputs": []
    },
    {
      "cell_type": "code",
      "metadata": {
        "colab": {
          "base_uri": "https://localhost:8080/"
        },
        "id": "fVZqEl18ykca",
        "outputId": "cd5489f7-2fe1-4ba4-c386-1dd65f30f75f"
      },
      "source": [
        "# Initialize grinding circuit environment\n",
        "env = GrindingCircuit()\n",
        "# Sample observation space to check if filled\n",
        "env.observation_space.sample()"
      ],
      "execution_count": 6,
      "outputs": [
        {
          "output_type": "execute_result",
          "data": {
            "text/plain": [
              "array([ 0.49417114, -0.12358999,  0.7134342 , -0.57819384, -1.6112323 ,\n",
              "        0.8104983 ,  0.09919415, -0.5626872 ], dtype=float32)"
            ]
          },
          "metadata": {
            "tags": []
          },
          "execution_count": 6
        }
      ]
    },
    {
      "cell_type": "markdown",
      "metadata": {
        "id": "vcjVlGyynmvA"
      },
      "source": [
        "# Machine Learning Config"
      ]
    },
    {
      "cell_type": "code",
      "metadata": {
        "colab": {
          "base_uri": "https://localhost:8080/",
          "height": 449
        },
        "id": "o8uTa1pqEVj9",
        "outputId": "85a1e568-1307-47b7-8186-b6b65e7b7bec"
      },
      "source": [
        "agent = Agent(alpha=0.000025, beta=0.00025, \n",
        "              input_dims=[8], tau=0.001, env=env,\n",
        "              batch_size=40,  layer1_size=1024, layer2_size=1024, n_actions=2)\n",
        "\n",
        "#agent.load_models()\n",
        "np.random.seed(0)\n",
        "\n",
        "score_history = []\n",
        "for i in range(10):\n",
        "    obs = env.reset()\n",
        "    done = False\n",
        "    score = 0\n",
        "    while not done:\n",
        "        act = agent.choose_action(obs)\n",
        "        new_state, reward, done, info = env.step(act)\n",
        "        agent.remember(obs, act, reward, new_state, int(done))\n",
        "        agent.learn()\n",
        "        score += reward\n",
        "        obs = new_state\n",
        "        #env.render()\n",
        "    score_history.append(score)\n",
        "\n",
        "    #if i % 25 == 0:\n",
        "    #    agent.save_models()\n",
        "\n",
        "    print('episode ', i, 'score %.2f' % score,\n",
        "          'trailing 100 games avg %.3f' % np.mean(score_history[-100:]))\n",
        "\n",
        "filename = 'LunarLander-alpha000025-beta00025-400-300.png'\n",
        "plotLearning(score_history, filename, window=100)"
      ],
      "execution_count": 7,
      "outputs": [
        {
          "output_type": "stream",
          "text": [
            "episode  0 score 0.00 trailing 100 games avg 0.000\n",
            "episode  1 score 0.00 trailing 100 games avg 0.000\n",
            "episode  2 score 0.00 trailing 100 games avg 0.000\n",
            "episode  3 score 0.00 trailing 100 games avg 0.000\n",
            "episode  4 score 0.00 trailing 100 games avg 0.000\n",
            "episode  5 score 0.00 trailing 100 games avg 0.000\n",
            "episode  6 score 0.00 trailing 100 games avg 0.000\n",
            "episode  7 score 0.00 trailing 100 games avg 0.000\n",
            "episode  8 score 0.00 trailing 100 games avg 0.000\n",
            "episode  9 score 0.00 trailing 100 games avg 0.000\n"
          ],
          "name": "stdout"
        },
        {
          "output_type": "display_data",
          "data": {
            "image/png": "[encoded data removed]",
            "text/plain": [
              "<Figure size 432x288 with 1 Axes>"
            ]
          },
          "metadata": {
            "tags": [],
            "needs_background": "light"
          }
        }
      ]
    }
  ]
}